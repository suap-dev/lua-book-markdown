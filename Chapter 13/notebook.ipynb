{
 "cells": [
  {
   "cell_type": "markdown",
   "metadata": {},
   "source": [
    "# 13 – Metatables and Metamethods\n",
    "\n",
    "Usually, tables in Lua have a quite predictable set of operations. We can add key-value pairs, we can check the value associated with a key, we can traverse all key-value pairs, and that is all. We cannot add tables, we cannot compare tables, and we cannot call a table.\n",
    "\n",
    "Metatables allow us to change the behavior of a table. For instance, using metatables, we can define how Lua computes the expression `a+b`, where `a` and `b` are tables. Whenever Lua tries to add two tables, it checks whether either of them has a metatable and whether that metatable has an `__add` field. If Lua finds this field, it calls the corresponding value (the so-called *metamethod*, which should be a function) to compute the sum.\n",
    "\n",
    "Each table in Lua may have its own *metatable*. (As we will see later, userdata also can have metatables.) Lua always create new tables without metatables:"
   ]
  },
  {
   "cell_type": "code",
   "execution_count": 12,
   "metadata": {},
   "outputs": [
    {
     "name": "stdout",
     "output_type": "stream",
     "text": [
      "nil \n"
     ]
    }
   ],
   "source": [
    "t = {}\n",
    "print(getmetatable(t)) --> nil"
   ]
  },
  {
   "cell_type": "markdown",
   "metadata": {},
   "source": [
    "We can use `setmetatable` to set or change the metatable of any table:"
   ]
  },
  {
   "cell_type": "code",
   "execution_count": 13,
   "metadata": {},
   "outputs": [],
   "source": [
    "t1 = {}\n",
    "setmetatable(t, t1)\n",
    "assert(getmetatable(t) == t1)"
   ]
  },
  {
   "cell_type": "markdown",
   "metadata": {},
   "source": [
    "Any table can be the metatable of any other table; a group of related tables may share a common metatable (which describes their common behavior); a table can be its own metatable (so that it describes its own individual behavior). Any configuration is valid."
   ]
  },
  {
   "cell_type": "markdown",
   "metadata": {},
   "source": [
    "---"
   ]
  },
  {
   "cell_type": "markdown",
   "metadata": {},
   "source": [
    "## 13.1 – Arithmetic Metamethods\n",
    "\n",
    "In this section, we will introduce a simple example to explain how to use metatables. Suppose we are using tables to represent sets, with functions to compute the union of two sets, intersection, and the like. As we did with lists, we store these functions inside a table and we define a constructor to create new sets:"
   ]
  },
  {
   "cell_type": "code",
   "execution_count": 14,
   "metadata": {},
   "outputs": [],
   "source": [
    "Set = {}\n",
    "\n",
    "function Set.new(t)\n",
    "    local set = {}\n",
    "    for _, l in ipairs(t) do set[l] = true end\n",
    "\n",
    "    return set\n",
    "end\n",
    "\n",
    "function Set.union(a, b)\n",
    "    local res = Set.new {}\n",
    "    for k in pairs(a) do res[k] = true end\n",
    "    for k in pairs(b) do res[k] = true end\n",
    "\n",
    "    return res\n",
    "end\n",
    "\n",
    "function Set.intersection(a, b)\n",
    "    local res = Set.new {}\n",
    "    for k in pairs(a) do\n",
    "        res[k] = b[k]\n",
    "    end\n",
    "    \n",
    "    return res\n",
    "end"
   ]
  },
  {
   "cell_type": "markdown",
   "metadata": {},
   "source": [
    "To help checking our examples, we also define a function to print sets:"
   ]
  },
  {
   "cell_type": "code",
   "execution_count": 15,
   "metadata": {},
   "outputs": [],
   "source": [
    "function Set.tostring(set)\n",
    "    local s = \"{\"\n",
    "    local sep = \"\"\n",
    "    for e in pairs(set) do\n",
    "        s = s .. sep .. e\n",
    "        sep = \", \"\n",
    "    end\n",
    "    \n",
    "    return s .. \"}\"\n",
    "end\n",
    "\n",
    "function Set.print(s)\n",
    "    print(Set.tostring(s))\n",
    "end"
   ]
  },
  {
   "cell_type": "markdown",
   "metadata": {},
   "source": [
    "Now, we want to make the addition operator (`+`) compute the union of two sets. For that, we will arrange that all tables representing sets share a metatable and this metatable will define how they react to the addition operator. Our first step is to create a regular table that we will use as the metatable for sets. To avoid polluting our namespace, we will store it in the Set table:"
   ]
  },
  {
   "cell_type": "code",
   "execution_count": 16,
   "metadata": {},
   "outputs": [],
   "source": [
    "Set.mt = {} -- metatable for sets"
   ]
  },
  {
   "cell_type": "markdown",
   "metadata": {},
   "source": [
    "The next step is to modify the `Set.new` function, which creates sets. The new version has only one extra line, which sets `mt` as the metatable for the tables that it creates:"
   ]
  },
  {
   "cell_type": "code",
   "execution_count": 17,
   "metadata": {},
   "outputs": [],
   "source": [
    "function Set.new(t)  -- 2nd version\n",
    "    local set = {}\n",
    "    setmetatable(set, Set.mt)\n",
    "    for _, l in ipairs(t) do set[l] = true end\n",
    "    \n",
    "    return set\n",
    "end"
   ]
  },
  {
   "cell_type": "markdown",
   "metadata": {},
   "source": [
    "After that, every set we create with `Set.new` will have that same table as its metatable:"
   ]
  },
  {
   "cell_type": "code",
   "execution_count": 18,
   "metadata": {},
   "outputs": [
    {
     "name": "stdout",
     "output_type": "stream",
     "text": [
      "{} \n",
      "{} \n"
     ]
    }
   ],
   "source": [
    "s1 = Set.new { 10, 20, 30, 50 }\n",
    "s2 = Set.new { 30, 1 }\n",
    "print(getmetatable(s1)) --> table: 00672B60\n",
    "print(getmetatable(s2)) --> table: 00672B60"
   ]
  },
  {
   "cell_type": "markdown",
   "metadata": {},
   "source": [
    "Finally, we add to the metatable the so-called metamethod, a field `__add` that describes how to perform the union:"
   ]
  },
  {
   "cell_type": "code",
   "execution_count": 19,
   "metadata": {},
   "outputs": [],
   "source": [
    "Set.mt.__add = Set.union"
   ]
  },
  {
   "cell_type": "markdown",
   "metadata": {},
   "source": [
    "Whenever Lua tries to add two sets, it will call this function, with the two operands as arguments.\n",
    "With the metamethod in place, we can use the addition operator to do set unions:"
   ]
  },
  {
   "cell_type": "code",
   "execution_count": 20,
   "metadata": {},
   "outputs": [
    {
     "name": "stdout",
     "output_type": "stream",
     "text": [
      "{1, 30, 10, 20, 50} \n"
     ]
    }
   ],
   "source": [
    "s3 = s1 + s2\n",
    "Set.print(s3) --> {1, 10, 20, 30, 50}"
   ]
  },
  {
   "cell_type": "markdown",
   "metadata": {},
   "source": [
    "Similarly, we may use the multiplication operator to perform set intersection:"
   ]
  },
  {
   "cell_type": "code",
   "execution_count": 21,
   "metadata": {},
   "outputs": [
    {
     "name": "stdout",
     "output_type": "stream",
     "text": [
      "{30, 10, 20, 50} \n"
     ]
    }
   ],
   "source": [
    "Set.mt.__mul = Set.intersection\n",
    "\n",
    "Set.print((s1 + s2) * s1) --> {10, 20, 30, 50}"
   ]
  },
  {
   "cell_type": "markdown",
   "metadata": {},
   "source": [
    "For each arithmetic operator there is a corresponding field name in a metatable. Besides `__add` and `__mul`, there are `__sub` (for subtraction), `__div` (for division), `__unm` (for negation), and `__pow` (for exponentiation). We may define also the field `__concat`, to define a behavior for the concatenation operator.\n",
    "\n",
    "When we add two sets, there is no question about what metatable to use. However, we may write an expression that mixes two values with different metatables, for instance like this:"
   ]
  },
  {
   "cell_type": "code",
   "execution_count": 22,
   "metadata": {},
   "outputs": [
    {
     "ename": "[string \"Set = {}...\"]:13: bad argument #1 to 'for iterator' (table expected, got number)",
     "evalue": "[string \"Set = {}...\"]:13: bad argument #1 to 'for iterator' (table expected, got number)",
     "output_type": "error",
     "traceback": [
      "[string \"Set = {}...\"]:13: bad argument #1 to 'for iterator' (table expected, got number)"
     ]
    }
   ],
   "source": [
    "s = Set.new { 1, 2, 3 }\n",
    "s = s + 8 --> stdin:1: bad argument #1 to `pairs' (table expected, got number)"
   ]
  },
  {
   "cell_type": "markdown",
   "metadata": {},
   "source": [
    "To choose a metamethod, Lua does the following: (1) If the first value has a metatable with an `__add` field, Lua uses this value as the metamethod, independently of the second value; (2) otherwise, if the second value has a metatable with an `__add` field, Lua uses this value as the metamethod; (3) otherwise, Lua raises an error. Therefore, the last example will call `Set.union`, as will the expressions `10 + s` and `\"hy\" + s`.\n",
    "\n",
    "Lua does not care about those mixed types, but our implementation does. If we run the `s = s + 8` example, the error we get will be inside `Set.union`:"
   ]
  },
  {
   "cell_type": "raw",
   "metadata": {
    "vscode": {
     "languageId": "raw"
    }
   },
   "source": [
    "bad argument #1 to `pairs' (table expected, got number)"
   ]
  },
  {
   "cell_type": "code",
   "execution_count": 23,
   "metadata": {},
   "outputs": [],
   "source": [
    "function Set.union(a, b)\n",
    "    if getmetatable(a) ~= Set.mt or\n",
    "        getmetatable(b) ~= Set.mt then\n",
    "        error(\"attempt to `add' a set with a non-set value\", 2)\n",
    "    end\n",
    "\n",
    "    -- same as before:\n",
    "    local res = Set.new {}\n",
    "\n",
    "    for k in pairs(a) do res[k] = true end\n",
    "    for k in pairs(b) do res[k] = true end   \n",
    "    \n",
    "    return res\n",
    "end"
   ]
  },
  {
   "cell_type": "markdown",
   "metadata": {},
   "source": [
    "---"
   ]
  },
  {
   "cell_type": "markdown",
   "metadata": {},
   "source": [
    "## 13.2 – Relational Metamethods\n",
    "\n",
    "Metatables also allow us to give meaning to the relational operators, through the metamethods `__eq` (*equality*), `__lt` (*less than*), and `__le` (*less or equal*). There are no separate metamethods for the other three relational operators, as Lua translates `a ~= b` to `not (a == b)`, `a > b` to `b < a`, and `a >= b` to `b <= a`.\n",
    "\n",
    "(Big parentheses: Until Lua 4.0, all order operators were translated to a single one, by translating `a <= b` to `not (b < a)`. However, this translation is incorrect when we have a *partial order*, that is, when not all elements in our type are properly ordered. For instance, floating-point numbers are not totally ordered in most machines, because of the value *Not a Number* (*NaN*). According to the IEEE 754 standard, currently adopted by virtually every hardware, NaN represents undefined values, such as the result of `0/0`. The standard specifies that any comparison that involves NaN should result in false. That means that `NaN <= x` is always false, but `x < NaN` is also false. That implies that the translation from `a <= b` to not `(b < a)` is not valid in this case.)\n",
    "\n",
    "In our example with sets, we have a similar problem. An obvious (and useful) meaning for `<=` in sets is set containment: `a <= b` means that a is a subset of b. With that meaning, again it is possible that both `a <= b` and `b < a` are false; therefore, we need separate implementations for `__le` (*less or equal*) and `__lt` (*less than*):"
   ]
  },
  {
   "cell_type": "code",
   "execution_count": 24,
   "metadata": {},
   "outputs": [],
   "source": [
    "Set.mt.__le = function(a, b) -- set containment\n",
    "    for k in pairs(a) do\n",
    "        if not b[k] then return false end\n",
    "    end\n",
    "\n",
    "    return true\n",
    "end\n",
    "\n",
    "Set.mt.__lt = function(a, b)\n",
    "    return a <= b and not (b <= a)\n",
    "end\n"
   ]
  },
  {
   "cell_type": "markdown",
   "metadata": {},
   "source": [
    "Finally, we can define set equality through set containment:"
   ]
  },
  {
   "cell_type": "code",
   "execution_count": 25,
   "metadata": {},
   "outputs": [],
   "source": [
    "Set.mt.__eq = function(a, b)\n",
    "    return a <= b and b <= a\n",
    "end"
   ]
  },
  {
   "cell_type": "markdown",
   "metadata": {},
   "source": [
    "After those definitions, we are now ready to compare sets:"
   ]
  },
  {
   "cell_type": "code",
   "execution_count": 26,
   "metadata": {},
   "outputs": [
    {
     "name": "stdout",
     "output_type": "stream",
     "text": [
      "true \n",
      "true \n",
      "true \n",
      "false \n",
      "true \n"
     ]
    }
   ],
   "source": [
    "s1 = Set.new { 2, 4 }\n",
    "s2 = Set.new { 4, 10, 2 }\n",
    "print(s1 <= s2)      --> true\n",
    "print(s1 < s2)       --> true\n",
    "print(s1 >= s1)      --> true\n",
    "print(s1 > s1)       --> false\n",
    "print(s1 == s2 * s1) --> true"
   ]
  },
  {
   "cell_type": "markdown",
   "metadata": {},
   "source": [
    "Unlike arithmetic metamethods, relational metamethods do not support mixed types. Their behavior for mixed types mimics the common behavior of these operators in Lua. If you try to compare a string with a number for order, Lua raises an error. Similarly, if you try to compare two objects with different metamethods for order, Lua raises an error.\n",
    "\n",
    "An equality comparison never raises an error, but if two objects have different metamethods, the equality operation results in false, without even calling any metamethod. Again, this behavior mimics the common behavior of Lua, which always classifies strings as different from numbers, regardless of their values. Lua calls the equality metamethod only when the two objects being compared share this metamethod."
   ]
  },
  {
   "cell_type": "markdown",
   "metadata": {},
   "source": [
    "---"
   ]
  },
  {
   "cell_type": "markdown",
   "metadata": {},
   "source": [
    "## 13.3 – Library-Defined Metamethods\n",
    "\n",
    "It is a common practice for some libraries to define their own fields in metatables. So far, all the metamethods we have seen are for the Lua core. It is the virtual machine that detects that the values involved in an operation have metatables and that these metatables define metamethods for that operation. However, because the metatable is a regular table, anyone can use it.\n",
    "\n",
    "The `tostring` function provides a typical example. As we saw earlier, `tostring` represents tables in a rather simple format:"
   ]
  },
  {
   "cell_type": "code",
   "execution_count": 27,
   "metadata": {},
   "outputs": [
    {
     "name": "stdout",
     "output_type": "stream",
     "text": [
      "{} \n"
     ]
    }
   ],
   "source": [
    "print({}) --> table: 0x8062ac0"
   ]
  },
  {
   "cell_type": "markdown",
   "metadata": {},
   "source": [
    "(Note that `print` always calls `tostring` to format its output.) However, when formatting an object, `tostring` first checks whether the object has a metatable with a `__tostring` field. If this is the case, `tostring` calls the corresponding value (which must be a function) to do its job, passing the object as an argument. Whatever this metamethod returns is the result of `tostring`.\n",
    "\n",
    "In our example with sets, we have already defined a function to present a set as a string. So, we need only to set the `__tostring` field in the set metatable:"
   ]
  },
  {
   "cell_type": "code",
   "execution_count": 28,
   "metadata": {},
   "outputs": [],
   "source": [
    "Set.mt.__tostring = Set.tostring"
   ]
  },
  {
   "cell_type": "markdown",
   "metadata": {},
   "source": [
    "After that, whenever we call print with a set as its argument, print calls `tostring` that calls `Set.tostring`:"
   ]
  },
  {
   "cell_type": "code",
   "execution_count": 29,
   "metadata": {},
   "outputs": [
    {
     "name": "stdout",
     "output_type": "stream",
     "text": [
      "[[{10, 5, 4}]] \n"
     ]
    }
   ],
   "source": [
    "s1 = Set.new { 10, 4, 5 }\n",
    "print(s1) --> {4, 5, 10}"
   ]
  },
  {
   "cell_type": "markdown",
   "metadata": {},
   "source": [
    "The `setmetatable`/`getmetatable` functions use a metafield also, in this case to protect metatables. Suppose you want to protect your sets, so that users can neither see nor change their metatables. If you set a __metatable field in the metatable, `getmetatable` will return the value of this field, whereas `setmetatable` will raise an error:"
   ]
  },
  {
   "cell_type": "code",
   "execution_count": 30,
   "metadata": {},
   "outputs": [
    {
     "name": "stdout",
     "output_type": "stream",
     "text": [
      "not your business \n"
     ]
    },
    {
     "ename": "[string \"Set.mt.__metatable = \"not your business\"...\"]:5: cannot change a protected metatable",
     "evalue": "[string \"Set.mt.__metatable = \"not your business\"...\"]:5: cannot change a protected metatable",
     "output_type": "error",
     "traceback": [
      "[string \"Set.mt.__metatable = \"not your business\"...\"]:5: cannot change a protected metatable"
     ]
    }
   ],
   "source": [
    "Set.mt.__metatable = \"not your business\"\n",
    "\n",
    "s1 = Set.new {}\n",
    "print(getmetatable(s1)) --> not your business\n",
    "setmetatable(s1, {})    --> stdin:1: cannot change protected metatable"
   ]
  },
  {
   "cell_type": "markdown",
   "metadata": {},
   "source": [
    "---"
   ]
  },
  {
   "cell_type": "markdown",
   "metadata": {},
   "source": [
    "## 13.4 – Table-Access Metamethods\n",
    "\n",
    "The metamethods for arithmetic and relational operators all define behavior for otherwise erroneous situations. They do not change the normal behavior of the language. But Lua also offers a way to change the behavior of tables for two normal situations, the query and modification of absent fields in a table."
   ]
  },
  {
   "cell_type": "markdown",
   "metadata": {},
   "source": [
    "---"
   ]
  },
  {
   "cell_type": "markdown",
   "metadata": {},
   "source": [
    "### 13.4.1 – The `__index` Metamethod\n",
    "\n",
    "I said earlier that, when we access an absent field in a table, the result is `nil`. This is true, but it is not the whole truth. Actually, such access triggers the interpreter to look for an `__index` metamethod: If there is no such method, as usually happens, then the access results in `nil`; otherwise, the metamethod will provide the result.\n",
    "\n",
    "The archetypal example here is inheritance. Suppose we want to create several tables describing windows. Each table must describe several window parameters, such as position, size, color scheme, and the like. All these parameters have default values and so we want to build window objects giving only the non-default parameters. A first alternative is to provide a constructor that fills in the absent fields. A second alternative is to arrange for the new windows to *inherit* any absent field from a prototype window. First, we declare the prototype and a constructor function, which creates new windows sharing a metatable:"
   ]
  },
  {
   "cell_type": "code",
   "execution_count": 31,
   "metadata": {},
   "outputs": [],
   "source": [
    "-- create a namespace\n",
    "Window = {}\n",
    "\n",
    "-- create the prototype with default values\n",
    "Window.prototype = { x = 0, y = 0, width = 100, height = 100, }\n",
    "\n",
    "-- create a metatable\n",
    "Window.mt = {}\n",
    "\n",
    "-- declare the constructor function\n",
    "function Window.new(o)\n",
    "    setmetatable(o, Window.mt)\n",
    "\n",
    "    return o\n",
    "end"
   ]
  },
  {
   "cell_type": "markdown",
   "metadata": {},
   "source": [
    "Now, we define the `__index` metamethod:"
   ]
  },
  {
   "cell_type": "code",
   "execution_count": 32,
   "metadata": {},
   "outputs": [],
   "source": [
    "Window.mt.__index = function(table, key)\n",
    "    return Window.prototype[key]\n",
    "end"
   ]
  },
  {
   "cell_type": "markdown",
   "metadata": {},
   "source": [
    "After that code, we create a new window and query it for an absent field:"
   ]
  },
  {
   "cell_type": "code",
   "execution_count": 33,
   "metadata": {},
   "outputs": [
    {
     "name": "stdout",
     "output_type": "stream",
     "text": [
      "100 \n"
     ]
    }
   ],
   "source": [
    "w = Window.new{x=10, y=20}\n",
    "print(w.width)    --> 100"
   ]
  },
  {
   "cell_type": "markdown",
   "metadata": {},
   "source": [
    "When Lua detects that w does not have the requested field, but has a metatable with an `__index` field, Lua calls this `__index` metamethod, with arguments w (the table) and `width` (the absent key). The metamethod then indexes the prototype with the given key and returns the result.\n",
    "\n",
    "The use of the `__index` metamethod for inheritance is so common that Lua provides a shortcut. Despite the name, the `__index` metamethod does not need to be a function: It can be a table, instead. When it is a function, Lua calls it with the table and the absent key as its arguments. When it is a table, Lua redoes the access in that table. Therefore, in our previous example, we could declare `__index` simply as"
   ]
  },
  {
   "cell_type": "code",
   "execution_count": 34,
   "metadata": {},
   "outputs": [],
   "source": [
    "Window.mt.__index = Window.prototype"
   ]
  },
  {
   "cell_type": "markdown",
   "metadata": {},
   "source": [
    "Now, when Lua looks for the metatable's `__index` field, it finds the value of `Window.prototype`, which is a table. Consequently, Lua repeats the access in this table, that is, it executes the equivalent of"
   ]
  },
  {
   "cell_type": "code",
   "execution_count": 35,
   "metadata": {},
   "outputs": [
    {
     "name": "stdout",
     "output_type": "stream",
     "text": [
      "100 \n"
     ]
    }
   ],
   "source": [
    "Window.prototype[\"width\"]"
   ]
  },
  {
   "cell_type": "markdown",
   "metadata": {},
   "source": [
    "which gives the desired result.\n",
    "\n",
    "The use of a table as an `__index` metamethod provides a cheap and simple way of implementing single inheritance. A function, although more expensive, provides more flexibility: We can implement multiple inheritance, caching, and several other variations. We will discuss those forms of inheritance in [Chapter 16]().\n",
    "\n",
    "When we want to access a table without invoking its `__index` metamethod, we use the rawget function. The call `rawget(t,i)` does a *raw* access to table `t`. Doing a raw access will not speed up your code (the overhead of a function call kills any gain you could have), but sometimes you need it, as we will see later."
   ]
  },
  {
   "cell_type": "markdown",
   "metadata": {},
   "source": [
    "---"
   ]
  },
  {
   "cell_type": "markdown",
   "metadata": {},
   "source": [
    "### 13.4.2 – The `__newindex` Metamethod\n",
    "\n",
    "The `__newindex` metamethod does for table updates what `__index` does for table accesses. When you assign a value to an absent index in a table, the interpreter looks for a `__newindex` metamethod: If there is one, the interpreter calls it *instead* of making the assignment. Like `__index`, if the metamethod is a table, the interpreter does the assignment in that table, instead of in the original one. Moreover, there is a raw function that allows you to bypass the metamethod: The call `rawset(t, k, v)` sets the value `v` in key `k` of table `t` without invoking any metamethod.\n",
    "\n",
    "The combined use of `__index` and `__newindex` metamethods allows several powerful constructs in Lua, from read-only tables to tables with default values to inheritance for object-oriented programming. In the rest of this chapter we see some of these uses. Object-oriented programming has its own chapter."
   ]
  },
  {
   "cell_type": "markdown",
   "metadata": {},
   "source": [
    "---"
   ]
  },
  {
   "cell_type": "markdown",
   "metadata": {},
   "source": [
    "### 13.4.3 – Tables with Default Values\n",
    "\n",
    "The default value of any field in a regular table is `nil`. It is easy to change this default value with metatables:"
   ]
  },
  {
   "cell_type": "code",
   "execution_count": 36,
   "metadata": {},
   "outputs": [
    {
     "name": "stdout",
     "output_type": "stream",
     "text": [
      "10 nil \n",
      "10 0 \n"
     ]
    }
   ],
   "source": [
    "function setDefault(t, d)\n",
    "    local mt = { __index = function() return d end }\n",
    "    setmetatable(t, mt)\n",
    "end\n",
    "\n",
    "tab = { x = 10, y = 20 }\n",
    "print(tab.x, tab.z) --> 10 nil\n",
    "setDefault(tab, 0)\n",
    "print(tab.x, tab.z) --> 10 0"
   ]
  },
  {
   "cell_type": "markdown",
   "metadata": {},
   "source": [
    "Now, whenever we access an absent field in tab, its `__index` metamethod is called and returns zero, which is the value of d for that metamethod.\n",
    "\n",
    "The `setDefault` function creates a new metatable for each table that needs a default value. This may be expensive if we have many tables that need default values. However, the metatable has the default value d wired into itself, so the function cannot use a single metatable for all tables. To allow the use of a single metatable for tables with different default values, we can store the default value of each table in the table itself, using an exclusive field. If we are not worried about name clashes, we can use a key like \"`___`\" for our exclusive field:"
   ]
  },
  {
   "cell_type": "code",
   "execution_count": 37,
   "metadata": {},
   "outputs": [],
   "source": [
    "local mt = { __index = function(t) return t.___ end }\n",
    "function setDefault(t, d)\n",
    "    t.___ = d\n",
    "    setmetatable(t, mt)\n",
    "end"
   ]
  },
  {
   "cell_type": "markdown",
   "metadata": {},
   "source": [
    "If we are worried about name clashes, it is easy to ensure the uniqueness of this special key. All we need is to create a new table and use it as the key:"
   ]
  },
  {
   "cell_type": "code",
   "execution_count": 38,
   "metadata": {},
   "outputs": [],
   "source": [
    "local key = {} -- unique key\n",
    "local mt = { __index = function(t) return t[key] end }\n",
    "function setDefault(t, d)\n",
    "    t[key] = d\n",
    "    setmetatable(t, mt)\n",
    "end"
   ]
  },
  {
   "cell_type": "markdown",
   "metadata": {},
   "source": [
    "An alternative approach to associating each table with its default value is to use a separate table, where the indices are the tables and the values are their default values. However, for the correct implementation of this approach we need a special breed of table, called *weak tables*, and so we will not use it here; we will return to the subject in [Chapter 17]().\n",
    "\n",
    "Another alternative is to memoize metatables in order to reuse the same metatable for tables with the same default. However, that needs weak tables too, so that again we will have to wait until [Chapter 17]()."
   ]
  },
  {
   "cell_type": "markdown",
   "metadata": {},
   "source": [
    "---"
   ]
  },
  {
   "cell_type": "markdown",
   "metadata": {},
   "source": [
    "### 13.4.4 – Tracking Table Accesses\n",
    "\n",
    "Both `__index` and `__newindex` are relevant only when the index does not exist in the table. The only way to catch all accesses to a table is to keep it empty. So, if we want to monitor all accesses to a table, we should create a *proxy* for the real table. This proxy is an empty table, with proper `__index` and `__newindex` metamethods, which track all accesses and redirect them to the original table. Suppose that t is the original table we want to track. We can write something like this:"
   ]
  },
  {
   "cell_type": "code",
   "execution_count": 39,
   "metadata": {},
   "outputs": [],
   "source": [
    "t = {} -- original table (created somewhere)\n",
    "\n",
    "-- keep a private access to original table\n",
    "local _t = t\n",
    "\n",
    "-- create proxy\n",
    "t = {}\n",
    "\n",
    "-- create metatable\n",
    "local mt = {\n",
    "    __index = function(t, k)\n",
    "        print(\"*access to element \" .. tostring(k))\n",
    "\n",
    "        return _t[k] -- access the original table\n",
    "    end,\n",
    "\n",
    "    __newindex = function(t, k, v)\n",
    "        print(\"*update of element \" .. tostring(k) ..\n",
    "            \" to \" .. tostring(v))\n",
    "        _t[k] = v -- update original table\n",
    "    end\n",
    "}\n",
    "setmetatable(t, mt)"
   ]
  },
  {
   "cell_type": "markdown",
   "metadata": {},
   "source": [
    "This code tracks every access to t:"
   ]
  },
  {
   "cell_type": "code",
   "execution_count": 40,
   "metadata": {},
   "outputs": [
    {
     "name": "stdout",
     "output_type": "stream",
     "text": [
      "*update of element 2 to hello \n",
      "*access to element 2 \n",
      "hello \n"
     ]
    }
   ],
   "source": [
    "t[2] = 'hello'\n",
    "--> *update of element 2 to hello\n",
    "\n",
    "print(t[2])\n",
    "--> *access to element 2\n",
    "--> hello"
   ]
  },
  {
   "cell_type": "markdown",
   "metadata": {},
   "source": [
    "(Notice that, unfortunately, this scheme does not allow us to traverse tables. The `pairs` function will operate on the proxy, not on the original table.)\n",
    "\n",
    "If we want to monitor several tables, we do not need a different metatable for each one. Instead, we can somehow associate each proxy to its original table and share a common metatable for all proxies. A simple way to associate proxies to tables is to keep the original table in a proxy's field, as long as we can be sure that this field will not be used for other means. A simple way to ensure that is to create a private key that nobody else can access. Putting these ideas together results in the following code:"
   ]
  },
  {
   "cell_type": "code",
   "execution_count": 41,
   "metadata": {},
   "outputs": [],
   "source": [
    "-- create private index\n",
    "local index = {}\n",
    "\n",
    "-- create metatable\n",
    "local mt = {\n",
    "    __index = function(t, k)\n",
    "        print(\"*access to element \" .. tostring(k))\n",
    "\n",
    "        return t[index][k] -- access the original table\n",
    "    end,\n",
    "\n",
    "    __newindex = function(t, k, v)\n",
    "        print(\"*update of element \" .. tostring(k) ..\n",
    "            \" to \" .. tostring(v))\n",
    "        t[index][k] = v -- update original table\n",
    "    end\n",
    "}\n",
    "\n",
    "function track(t)\n",
    "    local proxy = {}\n",
    "    proxy[index] = t\n",
    "    setmetatable(proxy, mt)\n",
    "    \n",
    "    return proxy\n",
    "end"
   ]
  },
  {
   "cell_type": "markdown",
   "metadata": {},
   "source": [
    "Now, whenever we want to monitor a table `t`, all we have to do is `t = track(t)`."
   ]
  },
  {
   "cell_type": "markdown",
   "metadata": {},
   "source": [
    "---"
   ]
  },
  {
   "cell_type": "markdown",
   "metadata": {},
   "source": [
    "### 13.4.5 – Read-Only Tables\n",
    "\n",
    "It is easy to adapt the concept of proxies to implement read-only tables. All we have to do is to raise an error whenever we track any attempt to update the table. For the `__index` metamethod, we can use a table---the original table itself---instead of a function, as we do not need to track queries; it is simpler and quite more efficient to redirect all queries to the original table. This use, however, demands a new metatable for each read-only proxy, with `__index` pointing to the original table:"
   ]
  },
  {
   "cell_type": "code",
   "execution_count": 42,
   "metadata": {},
   "outputs": [],
   "source": [
    "function readOnly(t)\n",
    "    local proxy = {}\n",
    "    local mt = { -- create metatable\n",
    "        __index = t,\n",
    "        __newindex = function(t, k, v)\n",
    "            error(\"attempt to update a read-only table\", 2)\n",
    "        end\n",
    "    }\n",
    "    setmetatable(proxy, mt)\n",
    "    \n",
    "    return proxy\n",
    "end"
   ]
  },
  {
   "cell_type": "markdown",
   "metadata": {},
   "source": [
    "(Remember that the second argument to `error`, 2, directs the error message to where the update was attempted.) As an example of use, we can create a read-only table for weekdays:"
   ]
  },
  {
   "cell_type": "code",
   "execution_count": 43,
   "metadata": {},
   "outputs": [
    {
     "name": "stdout",
     "output_type": "stream",
     "text": [
      "Sunday \n"
     ]
    },
    {
     "ename": "[string \"days = readOnly { \"Sunday\", \"Monday\", \"Tuesda...\"]:5: attempt to update a read-only table",
     "evalue": "[string \"days = readOnly { \"Sunday\", \"Monday\", \"Tuesda...\"]:5: attempt to update a read-only table",
     "output_type": "error",
     "traceback": [
      "[string \"days = readOnly { \"Sunday\", \"Monday\", \"Tuesda...\"]:5: attempt to update a read-only table"
     ]
    }
   ],
   "source": [
    "days = readOnly { \"Sunday\", \"Monday\", \"Tuesday\", \"Wednesday\",\n",
    "    \"Thursday\", \"Friday\", \"Saturday\" }\n",
    "\n",
    "print(days[1])    --> Sunday\n",
    "days[2] = \"Noday\" --> stdin:1: attempt to update a read-only table"
   ]
  }
 ],
 "metadata": {
  "kernelspec": {
   "display_name": "Lua  (XLua)",
   "language": "lua",
   "name": "xlua"
  },
  "language_info": {
   "file_extension": ".lua",
   "mimetype": "text/x-luasrc",
   "name": "lua",
   "version": "14.0.0"
  }
 },
 "nbformat": 4,
 "nbformat_minor": 2
}
